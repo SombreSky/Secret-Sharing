{
 "cells": [
  {
   "cell_type": "markdown",
   "metadata": {},
   "source": [
    "- нужено описать и реализовать распределенный генератор случайных чисел\n",
    "основная статья — https://ieeexplore.ieee.org/abstract/document/7520905\n",
    "  \n",
    "#### Requirements  \n",
    " - Unpredictability. (Nearly) Impossible to predict next rn given the knowledge of all the past rn-s.  \n",
    "    Note. Most of algorithms consists of two steps: entropy collection and entropy revealing. Unpredictability means impossibility to read result or make wanted number to be a result before entropy collection step.\n",
    " - Finality. All honest participants must generate the same rn.\n",
    " - Liveness. A rn will eventually be generated.\n",
    " - Unbiasedness. Distribution of rn cannot be influenced by a (small?) group of participants. In practice, it means that the generation ceremony cannot be influenced by selective participation of malicious participants.\n",
    " - Sufficiency. There are “enough” rn, i.e., rn-s are available at request.  \n",
    "\n",
    "#### BFT RNG (in collaboration with Mikhail Krasnoselsky)\n",
    "\n",
    " - Statement 1. Let X1 be a uniform on {0, 1, …, N-1} random variable, which is independent of arbitrary measurable random variable X2. Then X1+ X2 mod N is the uniform on {0, 1, …, N-1} random variable.\n",
    " - Statement 2. Let X11 , …, X1M be a i.i.d. uniform on {0, 1, …, N-1} random variables, which is independent of arbitrary measurable random variable X21, …, X2M. Then X11+ X21 mod N, …, X1M+ X2M mod N are independent uniform on {0, 1, …, N-1}.  \n",
    "\n",
    "#### Proposed algorithm:\n",
    " - secret sharing without a dealer based on polynomials and homomorphic encryption (https://ieeexplore.ieee.org/abstract/document/7520905).\n",
    " - Resulting RN – the value of a secret polynomial at a given point (for example, 0).\n",
    "\n",
    "#### Properties\n",
    " - Each step results in unpredictable RN or revealing at least one faulty process. A faulty processes could only rip off during the “preparation step” without ability to influence on unpredictability.\n",
    " - Limitation: we need to know the list of participants as always in BFT.   \n",
    " - Other limitations:  \n",
    "    Liveness: h >= d + 1, where h is the number of honest participants  \n",
    "    Unpredictability: h >= 2 and f <= d + 1, where f is the number of faulty participants.  \n",
    "    Classic result about BFT RNG: https://link.springer.com/chapter/10.1007/11945529_20 (разбор есть на нашей wiki).  \n",
    "\n",
    "#### Related papers (RNG usage for PoS):  \n",
    "    https://fc16.ifca.ai/bitcoin/papers/BGM16.pdf  \n",
    "    https://link.springer.com/chapter/10.1007/978-3-319-63688-7_12  \n",
    "\n",
    "\n",
    "- То есть сейчас, в качестве подготовительного шага, надо сделать демо генерации случайного полинома как суммы случайных полиномов в системе из n участников, где n известно. Никакого блокчейна, просто обмен сообщениями (можно даже сеть не моделировать — просто набор функций для имитации). Язык — на ваше усмотрение (Python устроит)."
   ]
  },
  {
   "cell_type": "code",
   "execution_count": 1,
   "metadata": {},
   "outputs": [],
   "source": [
    "# Количество участников:\n",
    "\n",
    "n = 10\n",
    "degree = n - 1"
   ]
  },
  {
   "cell_type": "markdown",
   "metadata": {},
   "source": [
    "- В качестве homomorphic one-way function that satisfies $E(x + y) = E(x)*E(y)$ пока возьмём $E(x) = g^x$ над $Z_p^*$"
   ]
  },
  {
   "cell_type": "code",
   "execution_count": 2,
   "metadata": {},
   "outputs": [],
   "source": [
    "import math\n",
    "import random\n",
    "\n",
    "class EClass:\n",
    "    def __init__(self, m, g = 13, n = 101):\n",
    "        self.m = m\n",
    "        self.g = g\n",
    "        self.n = n\n",
    "        \n",
    "    def __mul__(self, other):\n",
    "        return EClass(self.m + other.m)\n",
    "    \n",
    "    def __imul__(self, other):\n",
    "        return self * other\n",
    "    \n",
    "    def calc(self):\n",
    "        return self.g**(self.m % self.n)"
   ]
  },
  {
   "cell_type": "code",
   "execution_count": 3,
   "metadata": {},
   "outputs": [
    {
     "name": "stdout",
     "output_type": "stream",
     "text": [
      "E(x)*E(y) = 2619995643649944960380551432833049\n",
      "E(x+y)    = 2619995643649944960380551432833049\n"
     ]
    }
   ],
   "source": [
    "A = EClass(10)\n",
    "B = EClass(20)\n",
    "\n",
    "print(f\"E(x)*E(y) = {(A*B).calc()}\")\n",
    "print(f\"E(x+y)    = {EClass(10 + 20).calc()}\")"
   ]
  },
  {
   "cell_type": "markdown",
   "metadata": {},
   "source": [
    "#### Для работы с полиномами сделаем класс, который поддерживает:\n",
    "- сложение полиномов\n",
    "- генерацию случайного полинома по заданной степени и значению в точке"
   ]
  },
  {
   "cell_type": "code",
   "execution_count": 4,
   "metadata": {},
   "outputs": [],
   "source": [
    "class Polinomial:\n",
    "    def __init__(self, coef = [0]):\n",
    "        if type(coef) == int:\n",
    "            coef = [coef]\n",
    "        self.self_update(coef)\n",
    "\n",
    "    def self_update(self, coef = []):\n",
    "        new_coef = [0]\n",
    "        for i, c in enumerate(coef[::-1]):\n",
    "            if c:\n",
    "                new_coef = coef[:len(coef)-i]\n",
    "                break\n",
    "        self.coef = new_coef\n",
    "        self.degree = len(new_coef) - 1\n",
    "                \n",
    "    def generate_polynomial(self, degree, a, b):\n",
    "        \"\"\"chooses coefficients for a polynomial of the given degree, such that f(a) == b\"\"\"\n",
    "\n",
    "        #to fit only one data point, we can choose arbitrary values for every coefficient except one, which we initially set to zero.\n",
    "        coefficients = [0] + [random.randint(1, 10) for _ in range(degree)]\n",
    "\n",
    "        #now calculate f(a). This will probably not be equal to b, initially.\n",
    "        y = sum(coefficient * a**n for n, coefficient in enumerate(coefficients))\n",
    "\n",
    "        #setting the final coefficient to their difference will cause f(a) to equal b.\n",
    "        coefficients[0] = b - y\n",
    "\n",
    "        self.self_update(coefficients)\n",
    "        \n",
    "    def __getitem__(self, x):\n",
    "        res = 0\n",
    "        for i in range(self.degree + 1):\n",
    "            res += self.coef[i] * x ** i\n",
    "        return res\n",
    "    \n",
    "    def __add__(self, other):\n",
    "        A, B = self.coef, other.coef\n",
    "        if self.degree > other.degree:\n",
    "            A, B = B, A\n",
    "        A = A + [0] * (other.degree - self.degree)\n",
    "        return Polinomial([A[i] + B[i] for i in range(len(A))])\n",
    "        \n",
    "    \n",
    "    def __str__(self):\n",
    "        poli = \"\"\n",
    "        coef = list(map(str,self.coef[::-1]))\n",
    "        for i in range(self.degree + 1):\n",
    "            poli += coef[i]\n",
    "            if i != self.degree:\n",
    "                poli += (\"x^\" + str(self.degree - i) + \" + \")\n",
    "        return poli"
   ]
  },
  {
   "cell_type": "markdown",
   "metadata": {},
   "source": [
    "Примеры случайных полиномов:"
   ]
  },
  {
   "cell_type": "code",
   "execution_count": 5,
   "metadata": {},
   "outputs": [
    {
     "name": "stdout",
     "output_type": "stream",
     "text": [
      "8x^9 + 7x^8 + 4x^7 + 5x^6 + 4x^5 + 4x^4 + 2x^3 + 9x^2 + 2x^1 + 10\n",
      "4x^9 + 2x^8 + 10x^7 + 5x^6 + 5x^5 + 6x^4 + 4x^3 + 9x^2 + 10x^1 + 10\n"
     ]
    }
   ],
   "source": [
    "p = Polinomial()\n",
    "p.generate_polynomial(degree = 9, a = 0, b = 10)\n",
    "print(p)\n",
    "p.generate_polynomial(degree = 9, a = 0, b = 10)\n",
    "print(p)"
   ]
  },
  {
   "cell_type": "markdown",
   "metadata": {},
   "source": [
    "#### Для исключения ошибки вычислений вещественных чисел при интерполяции введём класс простых дробей с поддержкой:\n",
    "- сложения\n",
    "- умножения\n",
    "- приведения к десятичной дроби"
   ]
  },
  {
   "cell_type": "code",
   "execution_count": 6,
   "metadata": {},
   "outputs": [],
   "source": [
    "class Fraction:\n",
    "    def __init__(self, n, d = None):\n",
    "        self.n = n\n",
    "        if not d:\n",
    "            d = 1\n",
    "        self.d = d\n",
    "        \n",
    "    def __add__(self, other):\n",
    "        if type(other) == int:\n",
    "            other = Fraction(other)\n",
    "        return Fraction(self.n * other.d + self.d * other.n, self.d * other.d)\n",
    "    \n",
    "    def __iadd__(self, other):\n",
    "        return self + other\n",
    "    \n",
    "    def __mul__(self, other):\n",
    "        if type(other) == int:\n",
    "            other = Fraction(other)\n",
    "        return Fraction(self.n * other.n, self.d * other.d)\n",
    "    \n",
    "    def __imul__(self, other):\n",
    "        return self * other\n",
    "    \n",
    "    def to_decimal(self):\n",
    "        return self.n / self.d\n",
    "    \n",
    "    def __str__(self):\n",
    "        return f\"{self.n} / {self.d}\"  "
   ]
  },
  {
   "cell_type": "markdown",
   "metadata": {},
   "source": [
    "#### Этап генерации секрета:\n",
    "- В secret_I лежат оригинальные I\n",
    "- В public_I лежат E(I) для публичной передачи"
   ]
  },
  {
   "cell_type": "code",
   "execution_count": 7,
   "metadata": {},
   "outputs": [],
   "source": [
    "def secret_gen_part():\n",
    "    s_I = random.randint(100000, 1000000)\n",
    "    p_I = EClass(s_I)\n",
    "    return s_I, p_I\n",
    "\n",
    "def secret_gen(n):\n",
    "    secret_I = [None] * n\n",
    "    public_I = [None] * n\n",
    "    fs = [None] * n\n",
    "    for i in range(n):\n",
    "        s_I, p_I = secret_gen_part()\n",
    "\n",
    "        secret_I[i] = s_I\n",
    "        public_I[i] = p_I\n",
    "\n",
    "        fs[i] = Polinomial()\n",
    "        fs[i].generate_polynomial(degree, 0, s_I)\n",
    "    return secret_I, public_I, fs"
   ]
  },
  {
   "cell_type": "code",
   "execution_count": 8,
   "metadata": {},
   "outputs": [],
   "source": [
    "secret_I, public_I, fs = secret_gen(n)"
   ]
  },
  {
   "cell_type": "markdown",
   "metadata": {},
   "source": [
    "#### Этап расшаривания секрета:\n",
    "- в x лежат публичные x_i для каждого участника\n",
    "- в res_y части секрета каждого участника"
   ]
  },
  {
   "cell_type": "code",
   "execution_count": 9,
   "metadata": {},
   "outputs": [],
   "source": [
    "def secret_sharing_part_init(I, f1):\n",
    "    r = random.randint(100, 1000)\n",
    "    x = random.randint(100, 1000)\n",
    "    return r, x, f1, f1[x] + r\n",
    "\n",
    "def secret_sharing_part(x, fi, y):\n",
    "    return fi[x] + y\n",
    "\n",
    "def secret_sharing(n, secret_I, fs):\n",
    "    r = [None] * n \n",
    "    x = [None] * n \n",
    "    y = [[None] * n for i in range(n)]\n",
    "\n",
    "    for i in range(n):\n",
    "        r[i], x[i], fs[i], y[i][(i+1) % n] = secret_sharing_part_init(secret_I[i], fs[i])\n",
    "        for j in range(1,n):\n",
    "             y[i][(j+i+1) % n] = secret_sharing_part(x[i], fs[(j+i) % n], y[i][(j+i) % n])\n",
    "\n",
    "    res_y = [y[i][i] - r[i] for i in range(n)]\n",
    "    return x, res_y"
   ]
  },
  {
   "cell_type": "code",
   "execution_count": 10,
   "metadata": {},
   "outputs": [],
   "source": [
    "x, y = secret_sharing(n, secret_I, fs)"
   ]
  },
  {
   "cell_type": "markdown",
   "metadata": {},
   "source": [
    "#### Этап реконструкции секрета\n",
    "Считаем, что n участников передали свои доли, тогда восстанавливаем полином степени n-1 (не собираем его в явном виде, т.к. нам нужно значение лишь в одной точке)"
   ]
  },
  {
   "cell_type": "code",
   "execution_count": 11,
   "metadata": {},
   "outputs": [],
   "source": [
    "def interpolation(x, y, x0 = 0):\n",
    "    n = len(x)\n",
    "    res = Fraction(0,1)\n",
    "    for i in range(n):        \n",
    "        li = Fraction(1,1)\n",
    "        for j in range(n):\n",
    "            if j == i:\n",
    "                continue\n",
    "            li = li * Fraction((x0 - x[j]), (x[i] - x[j]))\n",
    "        res = res + Fraction(y[i], 1)*li\n",
    "    return res.to_decimal()"
   ]
  },
  {
   "cell_type": "code",
   "execution_count": 12,
   "metadata": {},
   "outputs": [
    {
     "data": {
      "text/plain": [
       "5435100.0"
      ]
     },
     "execution_count": 12,
     "metadata": {},
     "output_type": "execute_result"
    }
   ],
   "source": [
    "interpolation(x, y, x0 = 0)"
   ]
  },
  {
   "cell_type": "markdown",
   "metadata": {},
   "source": [
    "Подсчитываем $\\prod_{i = 1}^n E(I_i)$ и сравниваем с $E(S')$"
   ]
  },
  {
   "cell_type": "code",
   "execution_count": 13,
   "metadata": {},
   "outputs": [],
   "source": [
    "E_mul = public_I[0]\n",
    "for p_I in public_I[1:]:\n",
    "    E_mul *= p_I"
   ]
  },
  {
   "cell_type": "code",
   "execution_count": 14,
   "metadata": {},
   "outputs": [
    {
     "data": {
      "text/plain": [
       "True"
      ]
     },
     "execution_count": 14,
     "metadata": {},
     "output_type": "execute_result"
    }
   ],
   "source": [
    "E_mul.calc() == EClass(int(interpolation(x, y))).calc()"
   ]
  },
  {
   "cell_type": "markdown",
   "metadata": {},
   "source": [
    "Сходится!"
   ]
  },
  {
   "cell_type": "code",
   "execution_count": null,
   "metadata": {},
   "outputs": [],
   "source": []
  }
 ],
 "metadata": {
  "kernelspec": {
   "display_name": "Python 3",
   "language": "python",
   "name": "python3"
  },
  "language_info": {
   "codemirror_mode": {
    "name": "ipython",
    "version": 3
   },
   "file_extension": ".py",
   "mimetype": "text/x-python",
   "name": "python",
   "nbconvert_exporter": "python",
   "pygments_lexer": "ipython3",
   "version": "3.6.7"
  }
 },
 "nbformat": 4,
 "nbformat_minor": 2
}
