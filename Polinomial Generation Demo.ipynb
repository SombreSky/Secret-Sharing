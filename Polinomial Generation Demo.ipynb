{
 "cells": [
  {
   "cell_type": "markdown",
   "metadata": {},
   "source": [
    "#### Requirements  \n",
    " - Unpredictability. (Nearly) Impossible to predict next rn given the knowledge of all the past rn-s.  \n",
    "    Note. Most of algorithms consists of two steps: entropy collection and entropy revealing. Unpredictability means impossibility to read result or make wanted number to be a result before entropy collection step.\n",
    " - Finality. All honest participants must generate the same rn.\n",
    " - Liveness. A rn will eventually be generated.\n",
    " - Unbiasedness. Distribution of rn cannot be influenced by a (small?) group of participants. In practice, it means that the generation ceremony cannot be influenced by selective participation of malicious participants.\n",
    " - Sufficiency. There are “enough” rn, i.e., rn-s are available at request.  \n",
    "\n",
    "#### BFT RNG (in collaboration with Mikhail Krasnoselsky)\n",
    "\n",
    " - Statement 1. Let X1 be a uniform on {0, 1, …, N-1} random variable, which is independent of arbitrary measurable random variable X2. Then X1+ X2 mod N is the uniform on {0, 1, …, N-1} random variable.\n",
    " - Statement 2. Let X11 , …, X1M be a i.i.d. uniform on {0, 1, …, N-1} random variables, which is independent of arbitrary measurable random variable X21, …, X2M. Then X11+ X21 mod N, …, X1M+ X2M mod N are independent uniform on {0, 1, …, N-1}.  \n",
    "\n",
    "#### Proposed algorithm:\n",
    " - secret sharing without a dealer based on polynomials and homomorphic encryption (https://ieeexplore.ieee.org/abstract/document/7520905).\n",
    " - Resulting RN – the value of a secret polynomial at a given point (for example, 0).\n",
    "\n",
    "#### Properties\n",
    " - Each step results in unpredictable RN or revealing at least one faulty process. A faulty processes could only rip off during the “preparation step” without ability to influence on unpredictability.\n",
    " - Limitation: we need to know the list of participants as always in BFT.   \n",
    " - Other limitations:  \n",
    "    Liveness: h >= d + 1, where h is the number of honest participants  \n",
    "    Unpredictability: h >= 2 and f <= d + 1, where f is the number of faulty participants.  \n",
    "    Classic result about BFT RNG: https://link.springer.com/chapter/10.1007/11945529_20 (разбор есть на нашей wiki).  \n",
    "\n",
    "#### Related papers (RNG usage for PoS):  \n",
    "    https://fc16.ifca.ai/bitcoin/papers/BGM16.pdf  \n",
    "    https://link.springer.com/chapter/10.1007/978-3-319-63688-7_12  "
   ]
  },
  {
   "cell_type": "code",
   "execution_count": 1,
   "metadata": {},
   "outputs": [],
   "source": [
    "# Количество участников:\n",
    "\n",
    "n = 10\n",
    "degree = 8"
   ]
  },
  {
   "cell_type": "markdown",
   "metadata": {},
   "source": [
    "- В качестве homomorphic one-way function that satisfies $E(x + y) = E(x)*E(y)$ пока возьмём $E(x) = g^x$ над $Z_p^*$"
   ]
  },
  {
   "cell_type": "code",
   "execution_count": 2,
   "metadata": {},
   "outputs": [],
   "source": [
    "import math\n",
    "import random\n",
    "import prime_number as pn\n",
    "\n",
    "class EClass:\n",
    "    def __init__(self, m, g = 13, p = 101):\n",
    "        self.m = m\n",
    "        self.g = g\n",
    "        self.p = p\n",
    "        \n",
    "    def __mul__(self, other):\n",
    "        if (self.g != other.g or\n",
    "            self.p != other.p):\n",
    "            raise Exception('g and n must be the same for both classes')\n",
    "        return EClass(self.m + other.m, self.g, self.p)\n",
    "    \n",
    "    def __imul__(self, other):\n",
    "        return self * other\n",
    "    \n",
    "    def calc(self):\n",
    "        return self.g**(self.m % self.p)"
   ]
  },
  {
   "cell_type": "code",
   "execution_count": 3,
   "metadata": {},
   "outputs": [
    {
     "name": "stdout",
     "output_type": "stream",
     "text": [
      "E(x)*E(y) = 18724827932323904425245538798982374276288035150628898410029550834314362252550177998555131511858470007372502756101202022669060047181647453328110034509951875121691747474845622543834253984032646684241151260303283760423870071016007405966526094838547522027264972961036038788487102730451463483804450104106183454936207632499624793915186287959913188098307232429228496950703449925255718830332175887842606302088000267609835844688183309062826525630621167764798558079049\n",
      "E(x+y)    = 18724827932323904425245538798982374276288035150628898410029550834314362252550177998555131511858470007372502756101202022669060047181647453328110034509951875121691747474845622543834253984032646684241151260303283760423870071016007405966526094838547522027264972961036038788487102730451463483804450104106183454936207632499624793915186287959913188098307232429228496950703449925255718830332175887842606302088000267609835844688183309062826525630621167764798558079049\n"
     ]
    }
   ],
   "source": [
    "g = pn.generate_prime_number(random.randint(32,64))\n",
    "p = pn.generate_prime_number(random.randint(32,64))\n",
    "\n",
    "A = EClass(10, g, p)\n",
    "B = EClass(20, g, p)\n",
    "\n",
    "print(f\"E(x)*E(y) = {(A*B).calc()}\")\n",
    "print(f\"E(x+y)    = {EClass(10 + 20, g, p).calc()}\")"
   ]
  },
  {
   "cell_type": "markdown",
   "metadata": {},
   "source": [
    "#### Для работы с полиномами сделаем класс, который поддерживает:\n",
    "- сложение полиномов\n",
    "- генерацию случайного полинома по заданной степени и значению в точке"
   ]
  },
  {
   "cell_type": "code",
   "execution_count": 4,
   "metadata": {},
   "outputs": [],
   "source": [
    "class Polinomial:\n",
    "    def __init__(self, coef = [0]):\n",
    "        if type(coef) == int:\n",
    "            coef = [coef]\n",
    "        self.self_update(coef)\n",
    "\n",
    "    def self_update(self, coef = []):\n",
    "        new_coef = [0]\n",
    "        for i, c in enumerate(coef[::-1]):\n",
    "            if c != 0:\n",
    "                new_coef = coef[:len(coef)-i]\n",
    "                break\n",
    "        self.coef = new_coef\n",
    "        self.degree = len(new_coef) - 1\n",
    "                \n",
    "    def generate_polynomial(self, degree, a, b, c_range = 2**32):\n",
    "        \"\"\"chooses coefficients for a polynomial of the given degree, such that f(a) == b\"\"\"\n",
    "\n",
    "        #to fit only one data point, we can choose arbitrary values for every coefficient except one, which we initially set to zero.\n",
    "        coefficients = [0] + [int(c_range * random.random()) for _ in range(degree)]\n",
    "\n",
    "        #now calculate f(a). This will probably not be equal to b, initially.\n",
    "        y = sum(coefficient * a**n for n, coefficient in enumerate(coefficients))\n",
    "\n",
    "        #setting the final coefficient to their difference will cause f(a) to equal b.\n",
    "        coefficients[0] = b - y\n",
    "\n",
    "        self.self_update(coefficients)\n",
    "        \n",
    "    def __getitem__(self, x):\n",
    "        res = 0\n",
    "        for i in range(self.degree + 1):\n",
    "            res += self.coef[i] * x ** i\n",
    "        return res\n",
    "    \n",
    "    def __add__(self, other):\n",
    "        if type(other) != Polinomial:\n",
    "            return self + Polinomial([other])\n",
    "\n",
    "        A, B = self.coef, other.coef\n",
    "        if self.degree > other.degree:\n",
    "            A, B = B, A\n",
    "        A = A + [0] * (len(B) - len(A))\n",
    "        return Polinomial([A[i] + B[i] for i in range(len(A))])\n",
    "\n",
    "    def __radd__(self, other):\n",
    "        return self + other\n",
    "\n",
    "    def __iadd__(self, other):\n",
    "        return self + other\n",
    "    \n",
    "    def __sub__(self, other):\n",
    "        if type(other) != Polinomial:\n",
    "            return self - Polinomial([other])\n",
    "\n",
    "        other *= -1\n",
    "        A, B = self.coef, other.coef\n",
    "        if self.degree > other.degree:\n",
    "            A, B = B, A\n",
    "        A = A + [0] * (len(B) - len(A))\n",
    "        return Polinomial([A[i] + B[i] for i in range(len(A))])\n",
    "\n",
    "    def __rsub__(self, other):\n",
    "        return self + other\n",
    "\n",
    "    def __isub__(self, other):\n",
    "        return self + other\n",
    "    \n",
    "    def __mul__(self, other):\n",
    "        if type(other) != Polinomial:\n",
    "            return self * Polinomial([other])\n",
    "\n",
    "        A, B = self.coef, other.coef\n",
    "        C = [0] * (self.degree + other.degree + 1)\n",
    "        for i, a in enumerate(A):\n",
    "            for j, b in enumerate(B):\n",
    "                C[i+j] += a*b\n",
    "        return Polinomial(C)\n",
    "    \n",
    "    def __rmul__(self, other):\n",
    "        return self * other\n",
    "\n",
    "    def __imul__(self, other):\n",
    "        return self * other\n",
    "                \n",
    "    def __str__(self):\n",
    "        poli = \"\"\n",
    "        coef = list(map(str,self.coef[::-1]))\n",
    "        for i in range(self.degree + 1):\n",
    "            poli += (\"(\" + coef[i] + \")\")\n",
    "            if i != self.degree:\n",
    "                poli += (\"x^\" + str(self.degree - i) + \" + \")\n",
    "        return poli"
   ]
  },
  {
   "cell_type": "markdown",
   "metadata": {},
   "source": [
    "Примеры случайных полиномов:"
   ]
  },
  {
   "cell_type": "code",
   "execution_count": 5,
   "metadata": {},
   "outputs": [
    {
     "name": "stdout",
     "output_type": "stream",
     "text": [
      "(353)x^9 + (37)x^8 + (804)x^7 + (974)x^6 + (654)x^5 + (418)x^4 + (810)x^3 + (224)x^2 + (319)x^1 + (10)\n",
      "(321)x^9 + (484)x^8 + (384)x^7 + (76)x^6 + (335)x^5 + (637)x^4 + (305)x^3 + (125)x^2 + (350)x^1 + (10)\n"
     ]
    }
   ],
   "source": [
    "poli = Polinomial()\n",
    "poli.generate_polynomial(degree = 9, a = 0, b = 10, c_range = 2 ** 10)\n",
    "print(poli)\n",
    "poli.generate_polynomial(degree = 9, a = 0, b = 10, c_range = 2 ** 10)\n",
    "print(poli)"
   ]
  },
  {
   "cell_type": "markdown",
   "metadata": {},
   "source": [
    "#### Для исключения ошибки вычислений вещественных чисел при интерполяции введём класс простых дробей с поддержкой:\n",
    "- сложения\n",
    "- умножения\n",
    "- приведения к десятичной дроби"
   ]
  },
  {
   "cell_type": "code",
   "execution_count": 6,
   "metadata": {},
   "outputs": [],
   "source": [
    "class Fraction:\n",
    "    def __init__(self, n, d = None):\n",
    "        self.n = n\n",
    "        if not d:\n",
    "            d = 1\n",
    "        self.d = d\n",
    "        self.reduce()\n",
    "        \n",
    "    def __add__(self, other):\n",
    "        if type(other) == int:\n",
    "            other = Fraction(other)\n",
    "        if type(other)  == Fraction:\n",
    "            return Fraction(self.n * other.d + self.d * other.n, self.d * other.d)\n",
    "        return NotImplemented\n",
    "    \n",
    "    def __radd__(self, other):\n",
    "        return self + other\n",
    "    \n",
    "    def __iadd__(self, other):\n",
    "        return self + other\n",
    "    \n",
    "    def __sub__(self, other):\n",
    "        if type(other) == int:\n",
    "            other = Fraction(other)\n",
    "        if type(other)  == Fraction:\n",
    "            return Fraction(self.n * other.d - self.d * other.n, self.d * other.d)\n",
    "        return NotImplemented\n",
    "    \n",
    "    def __rsub__(self, other):\n",
    "        return self - other\n",
    "    \n",
    "    def __isub__(self, other):\n",
    "        return self - other\n",
    "\n",
    "    def __mul__(self, other):\n",
    "        if type(other) == int:\n",
    "            other = Fraction(other)\n",
    "        if type(other)  == Fraction:\n",
    "            return Fraction(self.n * other.n, self.d * other.d)\n",
    "        return NotImplemented\n",
    "    \n",
    "    def __rmul__(self, other):\n",
    "        return self * other\n",
    "    \n",
    "    def __imul__(self, other):\n",
    "        return self * other\n",
    "    \n",
    "    def __eq__(self, other):\n",
    "        if type(other) != Fraction:\n",
    "            return self.n == self.d * other\n",
    "        return self.n * other.d == self.d * other.n\n",
    "    \n",
    "    def to_decimal(self):\n",
    "        return self.n / self.d\n",
    "    \n",
    "    def reduce(self):\n",
    "        x, y = self.n, self.d\n",
    "        while(y): \n",
    "            x, y = y, x % y \n",
    "        self.n //= x\n",
    "        self.d //= x\n",
    "    \n",
    "    def __str__(self):\n",
    "        return f\"{self.n}/{self.d}\" "
   ]
  },
  {
   "cell_type": "markdown",
   "metadata": {},
   "source": [
    "#### Этап генерации секрета:\n",
    "- В secret_I лежат оригинальные I\n",
    "- В public_I лежат E(I) для публичной передачи"
   ]
  },
  {
   "cell_type": "code",
   "execution_count": 7,
   "metadata": {},
   "outputs": [],
   "source": [
    "def secret_gen_part(g, p):\n",
    "    s_I = random.randint(0, p-1)\n",
    "    p_I = EClass(s_I, g, p)\n",
    "    return s_I, p_I\n",
    "\n",
    "def secret_gen(n, g, p, crange, degree):\n",
    "    secret_I = [None] * n\n",
    "    public_I = [None] * n\n",
    "    fs = [None] * n\n",
    "    for i in range(n):\n",
    "        s_I, p_I = secret_gen_part(g, p)\n",
    "\n",
    "        secret_I[i] = s_I\n",
    "        public_I[i] = p_I\n",
    "\n",
    "        fs[i] = Polinomial()\n",
    "        fs[i].generate_polynomial(degree, 0, s_I, crange)\n",
    "    return secret_I, public_I, fs"
   ]
  },
  {
   "cell_type": "code",
   "execution_count": 8,
   "metadata": {},
   "outputs": [],
   "source": [
    "g = pn.generate_prime_number(random.randint(20,21))\n",
    "p = pn.generate_prime_number(random.randint(20,21))\n",
    "crange = 10000\n",
    "\n",
    "secret_I, public_I, fs = secret_gen(n, g, p, crange, degree)"
   ]
  },
  {
   "cell_type": "markdown",
   "metadata": {},
   "source": [
    "#### Этап расшаривания секрета:\n",
    "- в x лежат публичные x_i для каждого участника\n",
    "- в res_y части секрета каждого участника"
   ]
  },
  {
   "cell_type": "code",
   "execution_count": 9,
   "metadata": {},
   "outputs": [],
   "source": [
    "def secret_sharing_part_init(I, f1, i, p):\n",
    "    r = random.randint(0, p-1)\n",
    "    x = i\n",
    "    return r, x, f1, f1[x] + r\n",
    "\n",
    "def secret_sharing_part(x, fi, y):\n",
    "    return fi[x] + y\n",
    "\n",
    "def secret_sharing(n, secret_I, fs, p):\n",
    "    r = [None] * n \n",
    "    x = [None] * n \n",
    "    y = [[None] * n for i in range(n)]\n",
    "\n",
    "    for i in range(n):\n",
    "        r[i], x[i], fs[i], y[i][(i+1) % n] = secret_sharing_part_init(secret_I[i], fs[i], i+1, p)\n",
    "        for j in range(1,n):\n",
    "             y[i][(j+i+1) % n] = secret_sharing_part(x[i], fs[(j+i) % n], y[i][(j+i) % n])\n",
    "\n",
    "    res_y = [y[i][i] - r[i] for i in range(n)]\n",
    "    return x, res_y"
   ]
  },
  {
   "cell_type": "code",
   "execution_count": 10,
   "metadata": {},
   "outputs": [],
   "source": [
    "x, y = secret_sharing(n, secret_I, fs, p)"
   ]
  },
  {
   "cell_type": "markdown",
   "metadata": {},
   "source": [
    "#### Этап реконструкции секрета\n",
    "Считаем, что n участников передали свои доли, тогда восстанавливаем полином степени n-1 (не собираем его в явном виде, т.к. нам нужно значение лишь в одной точке)"
   ]
  },
  {
   "cell_type": "code",
   "execution_count": 11,
   "metadata": {},
   "outputs": [],
   "source": [
    "def interpolation_explicit(x, y):\n",
    "    n = len(x)\n",
    "    res = 0\n",
    "    for i in range(n):        \n",
    "        li = 1\n",
    "        for j in range(n):\n",
    "            if j == i:\n",
    "                continue\n",
    "            x_var = Polinomial([0,1])\n",
    "            li = li * (x_var * Fraction(1, (x[i] - x[j])) - Fraction(x[j], (x[i] - x[j])))\n",
    "        res = res + y[i]*li\n",
    "    return res"
   ]
  },
  {
   "cell_type": "code",
   "execution_count": 12,
   "metadata": {},
   "outputs": [],
   "source": [
    "def interpolation_onepoint(x, y):\n",
    "    n = len(x)\n",
    "    res = 0\n",
    "    for i in range(n):        \n",
    "        li = 1\n",
    "        for j in range(n):\n",
    "            if j == i:\n",
    "                continue\n",
    "            li = li * (0 - Fraction(x[j], (x[i] - x[j])))\n",
    "        res = res + y[i]*li\n",
    "    return res"
   ]
  },
  {
   "cell_type": "markdown",
   "metadata": {},
   "source": [
    "Подсчитываем $\\prod_{i = 1}^n E(I_i)$ и сравниваем с $E(S')$"
   ]
  },
  {
   "cell_type": "code",
   "execution_count": 13,
   "metadata": {},
   "outputs": [],
   "source": [
    "E_mul = public_I[0]\n",
    "for p_I in public_I[1:]:\n",
    "    E_mul *= p_I"
   ]
  },
  {
   "cell_type": "code",
   "execution_count": 14,
   "metadata": {},
   "outputs": [
    {
     "name": "stdout",
     "output_type": "stream",
     "text": [
      "(45205/1)x^8 + (60602/1)x^7 + (58263/1)x^6 + (41312/1)x^5 + (57381/1)x^4 + (47795/1)x^3 + (54703/1)x^2 + (38979/1)x^1 + (6043376/1)\n"
     ]
    }
   ],
   "source": [
    "secret_poli = interpolation_explicit(x, y)\n",
    "print(secret_poli)"
   ]
  },
  {
   "cell_type": "code",
   "execution_count": 15,
   "metadata": {},
   "outputs": [
    {
     "data": {
      "text/plain": [
       "True"
      ]
     },
     "execution_count": 15,
     "metadata": {},
     "output_type": "execute_result"
    }
   ],
   "source": [
    "E_mul.calc() == EClass(int(secret_poli[0].to_decimal()), g, p).calc()"
   ]
  },
  {
   "cell_type": "markdown",
   "metadata": {},
   "source": [
    "Сходится!"
   ]
  },
  {
   "cell_type": "markdown",
   "metadata": {},
   "source": [
    "### Протестируем время работы алгоритма:\n",
    "- Этап генерации секрета для каждого отдельного участника проходит за константное время, сложность этапа $O(1)$\n",
    "- На этапе разделения секрета каждый участник осуществляет $n$ операций, следователньо сложность этапа $O(n)$\n",
    "- На этапе реконструкции секрета, при подсчёте значения полинома в конкретной точке каждый участник осуществляет $n \\cdot n$ константных операций (согласно формуле подсчитывает сумму из n элементов, каждый из которых в свою очередь является произведением n элементов), следовательно сложность этапа $O(n^2)$  \n",
    "  \n",
    "Откуда следует, что сложность всего алгоритма для каждого из участников $O(n^2)$"
   ]
  },
  {
   "cell_type": "markdown",
   "metadata": {},
   "source": [
    "#### Проверим это утверждение тестированием\n",
    "Нижепредставленная функция симулирует выполнение алгоритма для количества $n$ участников от $degree + 1$ до **max_n** и подсчитывает суммарное время выполнения всех этапов для каждого из значений $n$"
   ]
  },
  {
   "cell_type": "code",
   "execution_count": 16,
   "metadata": {},
   "outputs": [],
   "source": [
    "import timeit\n",
    "\n",
    "def secret_generation_timer(max_n, degree, explicit_poli = False):\n",
    "    g = pn.generate_prime_number(random.randint(20,21))\n",
    "    p = pn.generate_prime_number(random.randint(20,21))\n",
    "\n",
    "    num = []\n",
    "    t = []\n",
    "    for n in range(degree + 1, max_n + 1):\n",
    "        start_time = timeit.default_timer()\n",
    "\n",
    "        crange = 10000\n",
    "        secret_I, public_I, fs = secret_gen(n, g, p, crange, degree)\n",
    "        x, y = secret_sharing(n, secret_I, fs, p)\n",
    "\n",
    "        elapsed = (timeit.default_timer() - start_time)/n\n",
    "        start_time = timeit.default_timer()\n",
    "        \n",
    "        if explicit_poli:\n",
    "            secret_poli = interpolation_explicit(x, y)\n",
    "        else:\n",
    "            secret = interpolation_onepoint(x, y)\n",
    "\n",
    "        elapsed += timeit.default_timer() - start_time\n",
    "        \n",
    "        num.append(n)\n",
    "        t.append(elapsed)\n",
    "    return num, t"
   ]
  },
  {
   "cell_type": "code",
   "execution_count": 24,
   "metadata": {},
   "outputs": [],
   "source": [
    "x, y = secret_generation_timer(100, 4)"
   ]
  },
  {
   "cell_type": "code",
   "execution_count": 26,
   "metadata": {},
   "outputs": [
    {
     "data": {
      "image/png": "[encoded data removed]",
      "text/plain": [
       "<Figure size 576x432 with 1 Axes>"
      ]
     },
     "metadata": {
      "needs_background": "light"
     },
     "output_type": "display_data"
    }
   ],
   "source": [
    "import matplotlib.pyplot as plt\n",
    "%matplotlib inline\n",
    "\n",
    "plt.figure(figsize=(8,6))\n",
    "plt.plot(x, y, label=u\"Показатель алгоритма\")\n",
    "plt.plot(x, [0.003+ i**2/105000 for i in x], label=u\"O(n^2)\", linestyle = \"--\")\n",
    "plt.title(u\"Время работы алгоритма от количества участников, \\n при нахождении значения полинома в одной точке\")\n",
    "plt.xlabel(u\"Количество участников\")\n",
    "plt.ylabel(u\"Время (с)\")\n",
    "plt.grid()\n",
    "plt.legend()\n",
    "plt.show()"
   ]
  },
  {
   "cell_type": "markdown",
   "metadata": {},
   "source": [
    "Видим, что эксперимент соответствует нашему утверждению."
   ]
  },
  {
   "cell_type": "markdown",
   "metadata": {},
   "source": [
    "### Сложность при явном вычислении всего случайного полинома\n",
    "- Посмотрим, что будет если использовать интерполяцию для полного восстановления случайного полинома (сложность должна возрасти до $O(n^4)$ в силу сложности перемножения полиномов в нашей реализации)"
   ]
  },
  {
   "cell_type": "code",
   "execution_count": 19,
   "metadata": {},
   "outputs": [],
   "source": [
    "x, y = secret_generation_timer(50, 4, explicit_poli = True)"
   ]
  },
  {
   "cell_type": "code",
   "execution_count": 20,
   "metadata": {},
   "outputs": [
    {
     "data": {
      "image/png": "[encoded data removed]",
      "text/plain": [
       "<Figure size 576x432 with 1 Axes>"
      ]
     },
     "metadata": {
      "needs_background": "light"
     },
     "output_type": "display_data"
    }
   ],
   "source": [
    "import matplotlib.pyplot as plt\n",
    "%matplotlib inline\n",
    "\n",
    "plt.figure(figsize=(8,6))\n",
    "plt.plot(x, y, label=u\"Показатель алгоритма\")\n",
    "plt.plot(x, [i**4/2200000 for i in x], label=u\"O(n^4)\", linestyle = \"--\")\n",
    "plt.title(u\"Время работы алгоритма от количества участников, \\n при восстановлении всего случайного полинома\")\n",
    "plt.xlabel(u\"Количество участников\")\n",
    "plt.ylabel(u\"Время (с)\")\n",
    "plt.grid()\n",
    "plt.legend()\n",
    "plt.show()"
   ]
  },
  {
   "cell_type": "markdown",
   "metadata": {},
   "source": [
    "Предположение подтвердилось, что делает нецелесообразным полное восстановление случайного полинома, поскольку для наших целей достаточно лишь значения в одной точке."
   ]
  },
  {
   "cell_type": "markdown",
   "metadata": {},
   "source": [
    "### Время работы алгоритма в зависимости от степени случайного полинома\n",
    "- Поскольку сложность сложения полиномов линейно зависит от числа их слагаемых в канонической форме, сложность должна зависить от степени полинома линейно, проверим это. "
   ]
  },
  {
   "cell_type": "code",
   "execution_count": 21,
   "metadata": {},
   "outputs": [],
   "source": [
    "import timeit\n",
    "\n",
    "def secret_generation_timer_degree(n, max_degree, explicit_poli = False):\n",
    "    g = pn.generate_prime_number(random.randint(20,21))\n",
    "    p = pn.generate_prime_number(random.randint(20,21))\n",
    "\n",
    "    num = []\n",
    "    t = []\n",
    "    for degree in range(1, max_degree + 1):\n",
    "        start_time = timeit.default_timer()\n",
    "\n",
    "        crange = 10000\n",
    "        secret_I, public_I, fs = secret_gen(n, g, p, crange, degree)\n",
    "        x, y = secret_sharing(n, secret_I, fs, p)\n",
    "\n",
    "        elapsed = (timeit.default_timer() - start_time)/n\n",
    "        start_time = timeit.default_timer()\n",
    "        \n",
    "        if explicit_poli:\n",
    "            secret_poli = interpolation_explicit(x, y)\n",
    "        else:\n",
    "            secret = interpolation_onepoint(x, y)\n",
    "\n",
    "        elapsed += timeit.default_timer() - start_time\n",
    "        \n",
    "        num.append(degree)\n",
    "        t.append(elapsed)\n",
    "    return num, t"
   ]
  },
  {
   "cell_type": "code",
   "execution_count": 27,
   "metadata": {},
   "outputs": [],
   "source": [
    "x, y = secret_generation_timer_degree(100, 99)"
   ]
  },
  {
   "cell_type": "code",
   "execution_count": 31,
   "metadata": {},
   "outputs": [
    {
     "data": {
      "image/png": "[encoded data removed]",
      "text/plain": [
       "<Figure size 576x432 with 1 Axes>"
      ]
     },
     "metadata": {
      "needs_background": "light"
     },
     "output_type": "display_data"
    }
   ],
   "source": [
    "import matplotlib.pyplot as plt\n",
    "%matplotlib inline\n",
    "\n",
    "plt.figure(figsize=(8,6))\n",
    "plt.plot(x, y, label=u\"Показатель алгоритма\")\n",
    "plt.plot(x, [0.095 + i/8500 for i in x], label=u\"O(d)\", linestyle = \"--\")\n",
    "plt.title(u\"Время работы алгоритма в зависимости от степени полинома для 100 участников\")\n",
    "plt.xlabel(u\"Степень полинома\")\n",
    "plt.ylabel(u\"Время (с)\")\n",
    "plt.grid()\n",
    "plt.legend()\n",
    "plt.show()"
   ]
  },
  {
   "cell_type": "markdown",
   "metadata": {},
   "source": [
    "Видим, что эксперимент соответствует утверждению."
   ]
  },
  {
   "cell_type": "code",
   "execution_count": null,
   "metadata": {},
   "outputs": [],
   "source": []
  }
 ],
 "metadata": {
  "kernelspec": {
   "display_name": "Python 3",
   "language": "python",
   "name": "python3"
  },
  "language_info": {
   "codemirror_mode": {
    "name": "ipython",
    "version": 3
   },
   "file_extension": ".py",
   "mimetype": "text/x-python",
   "name": "python",
   "nbconvert_exporter": "python",
   "pygments_lexer": "ipython3",
   "version": "3.6.7"
  }
 },
 "nbformat": 4,
 "nbformat_minor": 2
}
